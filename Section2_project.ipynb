{
  "nbformat": 4,
  "nbformat_minor": 0,
  "metadata": {
    "colab": {
      "name": "Section2_project_2.ipynb",
      "provenance": [],
      "collapsed_sections": [],
      "authorship_tag": "ABX9TyP0w83eiGTgafPLwK1W+v00",
      "include_colab_link": true
    },
    "kernelspec": {
      "name": "python3",
      "display_name": "Python 3"
    },
    "language_info": {
      "name": "python"
    }
  },
  "cells": [
    {
      "cell_type": "markdown",
      "metadata": {
        "id": "view-in-github",
        "colab_type": "text"
      },
      "source": [
        "<a href=\"https://colab.research.google.com/github/In-Jung-Jeong/project/blob/main/Section2_project.ipynb\" target=\"_parent\"><img src=\"https://colab.research.google.com/assets/colab-badge.svg\" alt=\"Open In Colab\"/></a>"
      ]
    },
    {
      "cell_type": "markdown",
      "metadata": {
        "id": "dTJqsrVgmOIz"
      },
      "source": [
        "### 1) 데이터 선정 이유 및 문제 정의\n",
        "개봉영화의 정보를 가지고 그 영화의 매출액을 예측하는 모델을 만들고자합니다.\n",
        "  \n",
        "KOBIS 영화관입장권통합전산망의 박스오피스에서 2000년부터 2020년 까지 한국에서 \n",
        "개봉한 모든 영화 데이터를 가져와서 사용하겠습니다.  \n",
        "매출액을 예측하고자 하기때문에 회귀문제로 접근하겠습니다."
      ]
    },
    {
      "cell_type": "code",
      "metadata": {
        "id": "__xTrLwll6jS"
      },
      "source": [
        "!pip install category_encoders\n",
        "!pip install eli5\n",
        "!pip install shap\n",
        "!pip install pdpbox"
      ],
      "execution_count": null,
      "outputs": []
    },
    {
      "cell_type": "code",
      "metadata": {
        "colab": {
          "resources": {
            "http://localhost:8080/nbextensions/google.colab/files.js": {
              "data": "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",
              "ok": true,
              "headers": [
                [
                  "content-type",
                  "application/javascript"
                ]
              ],
              "status": 200,
              "status_text": ""
            }
          },
          "base_uri": "https://localhost:8080/",
          "height": 76
        },
        "id": "9ze03aDInn5C",
        "outputId": "cb6ac167-c42d-481f-9b00-2e7de57f5239"
      },
      "source": [
        "from google.colab import files\n",
        "import pandas as pd\n",
        "import io\n",
        "\n",
        "uploaded = files.upload()"
      ],
      "execution_count": null,
      "outputs": [
        {
          "output_type": "display_data",
          "data": {
            "text/html": [
              "\n",
              "     <input type=\"file\" id=\"files-f01c8cf9-bd9e-4b33-94a5-19c78fa60afb\" name=\"files[]\" multiple disabled\n",
              "        style=\"border:none\" />\n",
              "     <output id=\"result-f01c8cf9-bd9e-4b33-94a5-19c78fa60afb\">\n",
              "      Upload widget is only available when the cell has been executed in the\n",
              "      current browser session. Please rerun this cell to enable.\n",
              "      </output>\n",
              "      <script src=\"/nbextensions/google.colab/files.js\"></script> "
            ],
            "text/plain": [
              "<IPython.core.display.HTML object>"
            ]
          },
          "metadata": {}
        },
        {
          "output_type": "stream",
          "name": "stdout",
          "text": [
            "Saving 영화데이터(2000~2020).xls.xlsx to 영화데이터(2000~2020).xls.xlsx\n"
          ]
        }
      ]
    },
    {
      "cell_type": "code",
      "metadata": {
        "colab": {
          "base_uri": "https://localhost:8080/",
          "height": 204
        },
        "id": "pCysTWZOnsVp",
        "outputId": "02a7ef5d-2cde-4e4c-f721-d94800a87809"
      },
      "source": [
        "df = pd.read_excel(io.BytesIO(uploaded['영화데이터(2000~2020).xls.xlsx']))   # 데이터는 KOBIS 영화관입장권통합전산망의 박스오피스에서 내려받은 데이터셋을 사용합니다.\n",
        "df.head()"
      ],
      "execution_count": null,
      "outputs": [
        {
          "output_type": "execute_result",
          "data": {
            "text/html": [
              "<div>\n",
              "<style scoped>\n",
              "    .dataframe tbody tr th:only-of-type {\n",
              "        vertical-align: middle;\n",
              "    }\n",
              "\n",
              "    .dataframe tbody tr th {\n",
              "        vertical-align: top;\n",
              "    }\n",
              "\n",
              "    .dataframe thead th {\n",
              "        text-align: right;\n",
              "    }\n",
              "</style>\n",
              "<table border=\"1\" class=\"dataframe\">\n",
              "  <thead>\n",
              "    <tr style=\"text-align: right;\">\n",
              "      <th></th>\n",
              "      <th>순번</th>\n",
              "      <th>영화명</th>\n",
              "      <th>감독</th>\n",
              "      <th>제작사</th>\n",
              "      <th>수입사</th>\n",
              "      <th>배급사</th>\n",
              "      <th>개봉일</th>\n",
              "      <th>영화유형</th>\n",
              "      <th>영화형태</th>\n",
              "      <th>국적</th>\n",
              "      <th>전국스크린수</th>\n",
              "      <th>전국매출액</th>\n",
              "      <th>전국관객수</th>\n",
              "      <th>장르</th>\n",
              "      <th>등급</th>\n",
              "      <th>영화구분</th>\n",
              "    </tr>\n",
              "  </thead>\n",
              "  <tbody>\n",
              "    <tr>\n",
              "      <th>0</th>\n",
              "      <td>NaN</td>\n",
              "      <td>NaN</td>\n",
              "      <td>NaN</td>\n",
              "      <td>NaN</td>\n",
              "      <td>NaN</td>\n",
              "      <td>NaN</td>\n",
              "      <td>NaT</td>\n",
              "      <td>NaN</td>\n",
              "      <td>NaN</td>\n",
              "      <td>NaN</td>\n",
              "      <td>NaN</td>\n",
              "      <td>NaN</td>\n",
              "      <td>NaN</td>\n",
              "      <td>NaN</td>\n",
              "      <td>NaN</td>\n",
              "      <td>NaN</td>\n",
              "    </tr>\n",
              "    <tr>\n",
              "      <th>1</th>\n",
              "      <td>1.0</td>\n",
              "      <td>명량</td>\n",
              "      <td>김한민</td>\n",
              "      <td>(주)빅스톤픽쳐스</td>\n",
              "      <td>NaN</td>\n",
              "      <td>(주)씨제이이엔엠</td>\n",
              "      <td>2014-07-30</td>\n",
              "      <td>개봉영화</td>\n",
              "      <td>장편</td>\n",
              "      <td>한국</td>\n",
              "      <td>1587.0</td>\n",
              "      <td>1.357484e+11</td>\n",
              "      <td>17613682.0</td>\n",
              "      <td>사극</td>\n",
              "      <td>15세이상관람가</td>\n",
              "      <td>일반영화</td>\n",
              "    </tr>\n",
              "    <tr>\n",
              "      <th>2</th>\n",
              "      <td>2.0</td>\n",
              "      <td>극한직업</td>\n",
              "      <td>이병헌</td>\n",
              "      <td>(주)어바웃필름,영화사 해그림 주식회사,(주)씨제이이엔엠</td>\n",
              "      <td>NaN</td>\n",
              "      <td>(주)씨제이이엔엠</td>\n",
              "      <td>2019-01-23</td>\n",
              "      <td>개봉영화</td>\n",
              "      <td>장편</td>\n",
              "      <td>한국</td>\n",
              "      <td>1978.0</td>\n",
              "      <td>1.396480e+11</td>\n",
              "      <td>16264944.0</td>\n",
              "      <td>코미디</td>\n",
              "      <td>15세이상관람가</td>\n",
              "      <td>일반영화</td>\n",
              "    </tr>\n",
              "    <tr>\n",
              "      <th>3</th>\n",
              "      <td>3.0</td>\n",
              "      <td>신과함께-죄와 벌</td>\n",
              "      <td>김용화</td>\n",
              "      <td>리얼라이즈픽쳐스(주),(주)덱스터스튜디오</td>\n",
              "      <td>NaN</td>\n",
              "      <td>롯데쇼핑㈜롯데엔터테인먼트</td>\n",
              "      <td>2017-12-20</td>\n",
              "      <td>개봉영화</td>\n",
              "      <td>장편</td>\n",
              "      <td>한국</td>\n",
              "      <td>1912.0</td>\n",
              "      <td>1.156987e+11</td>\n",
              "      <td>14410754.0</td>\n",
              "      <td>판타지</td>\n",
              "      <td>12세이상관람가</td>\n",
              "      <td>일반영화</td>\n",
              "    </tr>\n",
              "    <tr>\n",
              "      <th>4</th>\n",
              "      <td>4.0</td>\n",
              "      <td>국제시장</td>\n",
              "      <td>윤제균</td>\n",
              "      <td>(주)제이케이필름,(주)씨제이이엔엠</td>\n",
              "      <td>NaN</td>\n",
              "      <td>(주)씨제이이엔엠</td>\n",
              "      <td>2014-12-17</td>\n",
              "      <td>개봉영화</td>\n",
              "      <td>장편</td>\n",
              "      <td>한국</td>\n",
              "      <td>966.0</td>\n",
              "      <td>1.108280e+11</td>\n",
              "      <td>14245998.0</td>\n",
              "      <td>드라마</td>\n",
              "      <td>12세이상관람가</td>\n",
              "      <td>일반영화</td>\n",
              "    </tr>\n",
              "  </tbody>\n",
              "</table>\n",
              "</div>"
            ],
            "text/plain": [
              "    순번        영화명   감독  ...   장르        등급  영화구분\n",
              "0  NaN        NaN  NaN  ...  NaN       NaN   NaN\n",
              "1  1.0         명량  김한민  ...   사극  15세이상관람가  일반영화\n",
              "2  2.0       극한직업  이병헌  ...  코미디  15세이상관람가  일반영화\n",
              "3  3.0  신과함께-죄와 벌  김용화  ...  판타지  12세이상관람가  일반영화\n",
              "4  4.0       국제시장  윤제균  ...  드라마  12세이상관람가  일반영화\n",
              "\n",
              "[5 rows x 16 columns]"
            ]
          },
          "metadata": {},
          "execution_count": 3
        }
      ]
    },
    {
      "cell_type": "markdown",
      "metadata": {
        "id": "etqX8rM5_h6E"
      },
      "source": [
        "### 2) 데이터를 이용한 가설 및 평가지표, 베이스라인 선택\n",
        "\n",
        "1. 해당 특성을 target으로 지정한 이유를 설명하세요.  \n",
        " 개봉한 영화의 정보를 가지고 그 영화의 매출액을 예측하고자 하므로 전국매출액 특성을 target으로 지정하겠습니다.\n",
        "\n",
        "2. 해당 베이스라인 모델과 평가지표를 선택한 이유를 설명하세요.  \n",
        "  회귀 문제로 접근할 것이기 때문에 베이스라인 모델은 타겟특성의 평균값으로 예측하는 모델을 사용하도록 하고, 평가지표는 r2 score를 사용하도록 하겠습니다."
      ]
    },
    {
      "cell_type": "code",
      "metadata": {
        "colab": {
          "base_uri": "https://localhost:8080/"
        },
        "id": "Qzo2vhhbBwXt",
        "outputId": "7999c884-0f48-4d93-bdfc-541759cd7b93"
      },
      "source": [
        "from sklearn.metrics import mean_squared_error, r2_score\n",
        "import numpy as np\n",
        "\n",
        "target = '전국매출액'\n",
        "baseline = [df[target].mean()] * len(df[target])\n",
        "baseline_r2score = r2_score(df[target].fillna(0), baseline)\n",
        "baseline_rmse = np.sqrt(mean_squared_error(df[target].fillna(0), baseline))\n",
        "print('r2_score :', baseline_r2score)\n",
        "print('rmse :', baseline_rmse)\n",
        "print('타겟(전국매출액) 평균값 :', df[target].mean())   "
      ],
      "execution_count": null,
      "outputs": [
        {
          "output_type": "stream",
          "name": "stdout",
          "text": [
            "r2_score : -1.6840863670264383e-06\n",
            "rmse : 6113123664.053403\n",
            "타겟(전국매출액) 평균값 : 1094257034.0102713\n"
          ]
        }
      ]
    },
    {
      "cell_type": "code",
      "metadata": {
        "colab": {
          "base_uri": "https://localhost:8080/"
        },
        "id": "XALuYuS8bsJM",
        "outputId": "cd24ebf4-cfcd-4808-f68d-675f7c79fd2e"
      },
      "source": [
        "df.sort_values('전국매출액', ascending=False)['전국매출액'].head(1)   # baseline r2_score : -1.68, rmse : 약 61억, \n",
        "                                                                      # 전국매출액 평균 : 약 11억, 최고 전국매출액 : 약 1400억  - 흥행을 한 영화와 그렇지 못한 영화의 매출액 차이가 심한걸 알 수 있다."
      ],
      "execution_count": null,
      "outputs": [
        {
          "output_type": "execute_result",
          "data": {
            "text/plain": [
              "2    1.396480e+11\n",
              "Name: 전국매출액, dtype: float64"
            ]
          },
          "metadata": {},
          "execution_count": 18
        }
      ]
    },
    {
      "cell_type": "markdown",
      "metadata": {
        "id": "LCnrWq-zD6se"
      },
      "source": [
        "### 3) EDA와 데이터 전처리\n",
        "1. Data Leakage가 있었나요? 없었다면 어떻게 방지했나요?  \n",
        "Data Leakage는 없었습니다. Data Leakage를 방지하기 위해 전국매출액 특성을 target 특성으로 지정해서 분리해 주었습니다.\n",
        "\n",
        "2. 정인중님이 만들고자 하는 모델은 언제 유용한가요? 어떤 한계를 가지고 있나요?  \n",
        "- 모델의 유용성 : 포털사이트에서 궁금한 영화의 제목을 검색해보면 관객수, 감독, 장르, 배급사 등 영화에 대한 기본적인 정보들이 나오지만 그 영화의 매출액은 나오지 않습니다. 이 모델을 통해서 전문적인 데이터 베이스를 찾아보지 않아도 해당 영화의 대략적인 매출액을 예상해 볼 수 있고 그 결과값을 통해 해당 영화를 볼지, 아니면 단지 그 영화의 매출액이 얼마였는지, 또는 상업적으로 얼마나 성공적인 영화였는지, 그 외 여러가지 목적에 따른 판단을 하는 지표로 사용될 수 있습니다.\n",
        "\n",
        "- 한계점 : 모델을 통해 얻는 값이 실제값과 근사하더라도 어디까지나 예측값이므로 해당 영화의 정확한 매출액이 아니라는점, 영화의 특이도에 따라 오차값이 클 수도 있지만 실제 상황에서 해당 영화의 정확한 매출액을 찾아보지 않는이상 예측값과 실제값이 얼마나 차이가 날지 모른다는점 등이 있다. 따라서 해당 모델을 통해 얻는 예측값은 어디까지나 참고용 으로만 사용하도록 한다."
      ]
    },
    {
      "cell_type": "code",
      "metadata": {
        "colab": {
          "base_uri": "https://localhost:8080/",
          "height": 204
        },
        "id": "_5ysZzwupJRk",
        "outputId": "3dfc79f2-fad1-45f0-cbd5-80df9251c472"
      },
      "source": [
        "# 첫번째 행은 excel파일의 columns이 두줄에 걸쳐 출력되었으므로 삭제하고, 첫번째 열은 인덱스가 겹치므로 삭제해 줍니다.\n",
        "# 또한 영화명과 개봉일은 예측을 할때 연관성이 낮은 부분이라 판단하고 삭제하겠습니다.\n",
        "df = df.drop(index=0)\n",
        "df = df.drop(columns=['순번', '영화명', '개봉일'], axis=1)\n",
        "df.head()"
      ],
      "execution_count": null,
      "outputs": [
        {
          "output_type": "execute_result",
          "data": {
            "text/html": [
              "<div>\n",
              "<style scoped>\n",
              "    .dataframe tbody tr th:only-of-type {\n",
              "        vertical-align: middle;\n",
              "    }\n",
              "\n",
              "    .dataframe tbody tr th {\n",
              "        vertical-align: top;\n",
              "    }\n",
              "\n",
              "    .dataframe thead th {\n",
              "        text-align: right;\n",
              "    }\n",
              "</style>\n",
              "<table border=\"1\" class=\"dataframe\">\n",
              "  <thead>\n",
              "    <tr style=\"text-align: right;\">\n",
              "      <th></th>\n",
              "      <th>감독</th>\n",
              "      <th>제작사</th>\n",
              "      <th>수입사</th>\n",
              "      <th>배급사</th>\n",
              "      <th>영화유형</th>\n",
              "      <th>영화형태</th>\n",
              "      <th>국적</th>\n",
              "      <th>전국스크린수</th>\n",
              "      <th>전국매출액</th>\n",
              "      <th>전국관객수</th>\n",
              "      <th>장르</th>\n",
              "      <th>등급</th>\n",
              "      <th>영화구분</th>\n",
              "    </tr>\n",
              "  </thead>\n",
              "  <tbody>\n",
              "    <tr>\n",
              "      <th>1</th>\n",
              "      <td>김한민</td>\n",
              "      <td>(주)빅스톤픽쳐스</td>\n",
              "      <td>NaN</td>\n",
              "      <td>(주)씨제이이엔엠</td>\n",
              "      <td>개봉영화</td>\n",
              "      <td>장편</td>\n",
              "      <td>한국</td>\n",
              "      <td>1587.0</td>\n",
              "      <td>1.357484e+11</td>\n",
              "      <td>17613682.0</td>\n",
              "      <td>사극</td>\n",
              "      <td>15세이상관람가</td>\n",
              "      <td>일반영화</td>\n",
              "    </tr>\n",
              "    <tr>\n",
              "      <th>2</th>\n",
              "      <td>이병헌</td>\n",
              "      <td>(주)어바웃필름,영화사 해그림 주식회사,(주)씨제이이엔엠</td>\n",
              "      <td>NaN</td>\n",
              "      <td>(주)씨제이이엔엠</td>\n",
              "      <td>개봉영화</td>\n",
              "      <td>장편</td>\n",
              "      <td>한국</td>\n",
              "      <td>1978.0</td>\n",
              "      <td>1.396480e+11</td>\n",
              "      <td>16264944.0</td>\n",
              "      <td>코미디</td>\n",
              "      <td>15세이상관람가</td>\n",
              "      <td>일반영화</td>\n",
              "    </tr>\n",
              "    <tr>\n",
              "      <th>3</th>\n",
              "      <td>김용화</td>\n",
              "      <td>리얼라이즈픽쳐스(주),(주)덱스터스튜디오</td>\n",
              "      <td>NaN</td>\n",
              "      <td>롯데쇼핑㈜롯데엔터테인먼트</td>\n",
              "      <td>개봉영화</td>\n",
              "      <td>장편</td>\n",
              "      <td>한국</td>\n",
              "      <td>1912.0</td>\n",
              "      <td>1.156987e+11</td>\n",
              "      <td>14410754.0</td>\n",
              "      <td>판타지</td>\n",
              "      <td>12세이상관람가</td>\n",
              "      <td>일반영화</td>\n",
              "    </tr>\n",
              "    <tr>\n",
              "      <th>4</th>\n",
              "      <td>윤제균</td>\n",
              "      <td>(주)제이케이필름,(주)씨제이이엔엠</td>\n",
              "      <td>NaN</td>\n",
              "      <td>(주)씨제이이엔엠</td>\n",
              "      <td>개봉영화</td>\n",
              "      <td>장편</td>\n",
              "      <td>한국</td>\n",
              "      <td>966.0</td>\n",
              "      <td>1.108280e+11</td>\n",
              "      <td>14245998.0</td>\n",
              "      <td>드라마</td>\n",
              "      <td>12세이상관람가</td>\n",
              "      <td>일반영화</td>\n",
              "    </tr>\n",
              "    <tr>\n",
              "      <th>5</th>\n",
              "      <td>안소니 루소,조 루소</td>\n",
              "      <td>NaN</td>\n",
              "      <td>월트디즈니컴퍼니코리아 유한책임회사</td>\n",
              "      <td>월트디즈니컴퍼니코리아 유한책임회사</td>\n",
              "      <td>개봉영화</td>\n",
              "      <td>장편</td>\n",
              "      <td>미국</td>\n",
              "      <td>2835.0</td>\n",
              "      <td>1.221827e+11</td>\n",
              "      <td>13934592.0</td>\n",
              "      <td>액션</td>\n",
              "      <td>12세이상관람가</td>\n",
              "      <td>일반영화</td>\n",
              "    </tr>\n",
              "  </tbody>\n",
              "</table>\n",
              "</div>"
            ],
            "text/plain": [
              "            감독                              제작사  ...        등급  영화구분\n",
              "1          김한민                        (주)빅스톤픽쳐스  ...  15세이상관람가  일반영화\n",
              "2          이병헌  (주)어바웃필름,영화사 해그림 주식회사,(주)씨제이이엔엠  ...  15세이상관람가  일반영화\n",
              "3          김용화           리얼라이즈픽쳐스(주),(주)덱스터스튜디오  ...  12세이상관람가  일반영화\n",
              "4          윤제균              (주)제이케이필름,(주)씨제이이엔엠  ...  12세이상관람가  일반영화\n",
              "5  안소니 루소,조 루소                              NaN  ...  12세이상관람가  일반영화\n",
              "\n",
              "[5 rows x 13 columns]"
            ]
          },
          "metadata": {},
          "execution_count": 38
        }
      ]
    },
    {
      "cell_type": "code",
      "metadata": {
        "colab": {
          "base_uri": "https://localhost:8080/"
        },
        "id": "QImWXamvpM8T",
        "outputId": "03bb9c59-4ca7-463b-ae58-bb5e4910a1f0"
      },
      "source": [
        "df.info()"
      ],
      "execution_count": null,
      "outputs": [
        {
          "output_type": "stream",
          "name": "stdout",
          "text": [
            "<class 'pandas.core.frame.DataFrame'>\n",
            "Int64Index: 16965 entries, 1 to 16965\n",
            "Data columns (total 13 columns):\n",
            " #   Column  Non-Null Count  Dtype  \n",
            "---  ------  --------------  -----  \n",
            " 0   감독      16262 non-null  object \n",
            " 1   제작사     5983 non-null   object \n",
            " 2   수입사     11549 non-null  object \n",
            " 3   배급사     16408 non-null  object \n",
            " 4   영화유형    16965 non-null  object \n",
            " 5   영화형태    16964 non-null  object \n",
            " 6   국적      16964 non-null  object \n",
            " 7   전국스크린수  16965 non-null  float64\n",
            " 8   전국매출액   16843 non-null  float64\n",
            " 9   전국관객수   16965 non-null  float64\n",
            " 10  장르      16885 non-null  object \n",
            " 11  등급      16949 non-null  object \n",
            " 12  영화구분    16965 non-null  object \n",
            "dtypes: float64(3), object(10)\n",
            "memory usage: 1.8+ MB\n"
          ]
        }
      ]
    },
    {
      "cell_type": "code",
      "metadata": {
        "colab": {
          "base_uri": "https://localhost:8080/"
        },
        "id": "CEKyIAmipTHE",
        "outputId": "b8915570-b50c-4a1a-a0ed-6bff8e51acdd"
      },
      "source": [
        "# 제작사가 있으면 수입사가 없고, 수입사가 있으면 제작사가 없기에 두 특성에서 결측값은 na라는 str로 지정해주고 나중에 인코딩하도록 한다.\n",
        "df[['제작사', '수입사']] = df[['제작사', '수입사']].fillna('na')\n",
        "df.shape"
      ],
      "execution_count": null,
      "outputs": [
        {
          "output_type": "execute_result",
          "data": {
            "text/plain": [
              "(16965, 13)"
            ]
          },
          "metadata": {},
          "execution_count": 40
        }
      ]
    },
    {
      "cell_type": "code",
      "metadata": {
        "colab": {
          "base_uri": "https://localhost:8080/"
        },
        "id": "THh3ixzApXyE",
        "outputId": "027385e5-f42a-4572-c340-1701df318a2e"
      },
      "source": [
        "df.isnull().sum()"
      ],
      "execution_count": null,
      "outputs": [
        {
          "output_type": "execute_result",
          "data": {
            "text/plain": [
              "감독        703\n",
              "제작사         0\n",
              "수입사         0\n",
              "배급사       557\n",
              "영화유형        0\n",
              "영화형태        1\n",
              "국적          1\n",
              "전국스크린수      0\n",
              "전국매출액     122\n",
              "전국관객수       0\n",
              "장르         80\n",
              "등급         16\n",
              "영화구분        0\n",
              "dtype: int64"
            ]
          },
          "metadata": {},
          "execution_count": 41
        }
      ]
    },
    {
      "cell_type": "code",
      "metadata": {
        "colab": {
          "base_uri": "https://localhost:8080/"
        },
        "id": "MT8S21tepaJW",
        "outputId": "911391e0-df59-4b9b-b58e-010ee103300d"
      },
      "source": [
        "df = df.dropna()   # 남은 전체 데이터에서 결측치 비율이 미미하므로 결측치가 있는 행은 삭제한다.\n",
        "df.shape"
      ],
      "execution_count": null,
      "outputs": [
        {
          "output_type": "execute_result",
          "data": {
            "text/plain": [
              "(15549, 13)"
            ]
          },
          "metadata": {},
          "execution_count": 42
        }
      ]
    },
    {
      "cell_type": "code",
      "metadata": {
        "colab": {
          "base_uri": "https://localhost:8080/",
          "height": 204
        },
        "id": "GpkUM-fbpd6L",
        "outputId": "1028fb98-b74b-491e-fec5-040933b95f28"
      },
      "source": [
        "df.head()"
      ],
      "execution_count": null,
      "outputs": [
        {
          "output_type": "execute_result",
          "data": {
            "text/html": [
              "<div>\n",
              "<style scoped>\n",
              "    .dataframe tbody tr th:only-of-type {\n",
              "        vertical-align: middle;\n",
              "    }\n",
              "\n",
              "    .dataframe tbody tr th {\n",
              "        vertical-align: top;\n",
              "    }\n",
              "\n",
              "    .dataframe thead th {\n",
              "        text-align: right;\n",
              "    }\n",
              "</style>\n",
              "<table border=\"1\" class=\"dataframe\">\n",
              "  <thead>\n",
              "    <tr style=\"text-align: right;\">\n",
              "      <th></th>\n",
              "      <th>감독</th>\n",
              "      <th>제작사</th>\n",
              "      <th>수입사</th>\n",
              "      <th>배급사</th>\n",
              "      <th>영화유형</th>\n",
              "      <th>영화형태</th>\n",
              "      <th>국적</th>\n",
              "      <th>전국스크린수</th>\n",
              "      <th>전국매출액</th>\n",
              "      <th>전국관객수</th>\n",
              "      <th>장르</th>\n",
              "      <th>등급</th>\n",
              "      <th>영화구분</th>\n",
              "    </tr>\n",
              "  </thead>\n",
              "  <tbody>\n",
              "    <tr>\n",
              "      <th>1</th>\n",
              "      <td>김한민</td>\n",
              "      <td>(주)빅스톤픽쳐스</td>\n",
              "      <td>na</td>\n",
              "      <td>(주)씨제이이엔엠</td>\n",
              "      <td>개봉영화</td>\n",
              "      <td>장편</td>\n",
              "      <td>한국</td>\n",
              "      <td>1587.0</td>\n",
              "      <td>1.357484e+11</td>\n",
              "      <td>17613682.0</td>\n",
              "      <td>사극</td>\n",
              "      <td>15세이상관람가</td>\n",
              "      <td>일반영화</td>\n",
              "    </tr>\n",
              "    <tr>\n",
              "      <th>2</th>\n",
              "      <td>이병헌</td>\n",
              "      <td>(주)어바웃필름,영화사 해그림 주식회사,(주)씨제이이엔엠</td>\n",
              "      <td>na</td>\n",
              "      <td>(주)씨제이이엔엠</td>\n",
              "      <td>개봉영화</td>\n",
              "      <td>장편</td>\n",
              "      <td>한국</td>\n",
              "      <td>1978.0</td>\n",
              "      <td>1.396480e+11</td>\n",
              "      <td>16264944.0</td>\n",
              "      <td>코미디</td>\n",
              "      <td>15세이상관람가</td>\n",
              "      <td>일반영화</td>\n",
              "    </tr>\n",
              "    <tr>\n",
              "      <th>3</th>\n",
              "      <td>김용화</td>\n",
              "      <td>리얼라이즈픽쳐스(주),(주)덱스터스튜디오</td>\n",
              "      <td>na</td>\n",
              "      <td>롯데쇼핑㈜롯데엔터테인먼트</td>\n",
              "      <td>개봉영화</td>\n",
              "      <td>장편</td>\n",
              "      <td>한국</td>\n",
              "      <td>1912.0</td>\n",
              "      <td>1.156987e+11</td>\n",
              "      <td>14410754.0</td>\n",
              "      <td>판타지</td>\n",
              "      <td>12세이상관람가</td>\n",
              "      <td>일반영화</td>\n",
              "    </tr>\n",
              "    <tr>\n",
              "      <th>4</th>\n",
              "      <td>윤제균</td>\n",
              "      <td>(주)제이케이필름,(주)씨제이이엔엠</td>\n",
              "      <td>na</td>\n",
              "      <td>(주)씨제이이엔엠</td>\n",
              "      <td>개봉영화</td>\n",
              "      <td>장편</td>\n",
              "      <td>한국</td>\n",
              "      <td>966.0</td>\n",
              "      <td>1.108280e+11</td>\n",
              "      <td>14245998.0</td>\n",
              "      <td>드라마</td>\n",
              "      <td>12세이상관람가</td>\n",
              "      <td>일반영화</td>\n",
              "    </tr>\n",
              "    <tr>\n",
              "      <th>5</th>\n",
              "      <td>안소니 루소,조 루소</td>\n",
              "      <td>na</td>\n",
              "      <td>월트디즈니컴퍼니코리아 유한책임회사</td>\n",
              "      <td>월트디즈니컴퍼니코리아 유한책임회사</td>\n",
              "      <td>개봉영화</td>\n",
              "      <td>장편</td>\n",
              "      <td>미국</td>\n",
              "      <td>2835.0</td>\n",
              "      <td>1.221827e+11</td>\n",
              "      <td>13934592.0</td>\n",
              "      <td>액션</td>\n",
              "      <td>12세이상관람가</td>\n",
              "      <td>일반영화</td>\n",
              "    </tr>\n",
              "  </tbody>\n",
              "</table>\n",
              "</div>"
            ],
            "text/plain": [
              "            감독                              제작사  ...        등급  영화구분\n",
              "1          김한민                        (주)빅스톤픽쳐스  ...  15세이상관람가  일반영화\n",
              "2          이병헌  (주)어바웃필름,영화사 해그림 주식회사,(주)씨제이이엔엠  ...  15세이상관람가  일반영화\n",
              "3          김용화           리얼라이즈픽쳐스(주),(주)덱스터스튜디오  ...  12세이상관람가  일반영화\n",
              "4          윤제균              (주)제이케이필름,(주)씨제이이엔엠  ...  12세이상관람가  일반영화\n",
              "5  안소니 루소,조 루소                               na  ...  12세이상관람가  일반영화\n",
              "\n",
              "[5 rows x 13 columns]"
            ]
          },
          "metadata": {},
          "execution_count": 43
        }
      ]
    },
    {
      "cell_type": "markdown",
      "metadata": {
        "id": "9yPUEdzGlDQ9"
      },
      "source": [
        "### 4) 머신러닝 방식 적용 및 교차검증\n"
      ]
    },
    {
      "cell_type": "code",
      "metadata": {
        "colab": {
          "base_uri": "https://localhost:8080/"
        },
        "id": "L-Ai8oGLqi8l",
        "outputId": "6641a40d-6e16-41d3-c116-7fa67712023b"
      },
      "source": [
        "from sklearn.model_selection import train_test_split\n",
        "\n",
        " #훈련, 검증, 테스트 데이터셋을 무작위로 나누어 줍니다.\n",
        "\n",
        "target = '전국매출액'\n",
        "features = df.drop(target, axis=1).columns\n",
        "train, test = train_test_split(df, train_size=0.80, test_size=0.20,\n",
        "                              random_state=2)\n",
        "train, val = train_test_split(train, train_size=0.80, test_size=0.20,\n",
        "                              random_state=2)\n",
        "\n",
        "X_train = train[features]\n",
        "X_val = val[features]\n",
        "X_test = test[features]\n",
        "\n",
        "y_train = train[target]\n",
        "y_val = val[target]\n",
        "y_test = test[target]\n",
        "\n",
        "print(train.shape, val.shape, test.shape)"
      ],
      "execution_count": null,
      "outputs": [
        {
          "output_type": "stream",
          "name": "stdout",
          "text": [
            "(9951, 13) (2488, 13) (3110, 13)\n"
          ]
        }
      ]
    },
    {
      "cell_type": "code",
      "metadata": {
        "colab": {
          "base_uri": "https://localhost:8080/"
        },
        "id": "wg2-194crN-Y",
        "outputId": "bc8b91d2-3862-48bc-81aa-6789d0499030"
      },
      "source": [
        "from sklearn.pipeline import make_pipeline\n",
        "from category_encoders import OrdinalEncoder\n",
        "from sklearn.ensemble import RandomForestClassifier\n",
        "from xgboost import XGBRegressor\n",
        "from sklearn.preprocessing import StandardScaler\n",
        "from sklearn.preprocessing import RobustScaler\n",
        "\n",
        "\n",
        "pipe = make_pipeline(\n",
        "    OrdinalEncoder(),\n",
        "    RobustScaler(),\n",
        "    XGBRegressor(max_depth=10, n_estimators = 100, random_state=2)\n",
        ")\n",
        "\n",
        "pipe.fit(X_train, y_train)"
      ],
      "execution_count": null,
      "outputs": [
        {
          "output_type": "stream",
          "name": "stderr",
          "text": [
            "/usr/local/lib/python3.7/dist-packages/statsmodels/tools/_testing.py:19: FutureWarning: pandas.util.testing is deprecated. Use the functions in the public API at pandas.testing instead.\n",
            "  import pandas.util.testing as tm\n"
          ]
        },
        {
          "output_type": "stream",
          "name": "stdout",
          "text": [
            "[13:40:29] WARNING: /workspace/src/objective/regression_obj.cu:152: reg:linear is now deprecated in favor of reg:squarederror.\n"
          ]
        },
        {
          "output_type": "execute_result",
          "data": {
            "text/plain": [
              "Pipeline(memory=None,\n",
              "         steps=[('ordinalencoder',\n",
              "                 OrdinalEncoder(cols=['감독', '제작사', '수입사', '배급사', '영화유형', '영화형태',\n",
              "                                      '국적', '장르', '등급', '영화구분'],\n",
              "                                drop_invariant=False, handle_missing='value',\n",
              "                                handle_unknown='value',\n",
              "                                mapping=[{'col': '감독', 'data_type': dtype('O'),\n",
              "                                          'mapping': 레이먼드 후버                1\n",
              "이세일                    2\n",
              "안슬기                    3\n",
              "미카엘 하프스트롬              4\n",
              "후지모리 카나                5\n",
              "                    ... \n",
              "존 포그                5301\n",
              "김조광수,여명준,조은경,홍동명    5302\n",
              "니마 누리자데             5303\n",
              "브루스 폰테인             5304\n",
              "NaN                   -2\n",
              "Length: 5305, dtyp...\n",
              "                              colsample_bylevel=1, colsample_bynode=1,\n",
              "                              colsample_bytree=1, gamma=0,\n",
              "                              importance_type='gain', learning_rate=0.1,\n",
              "                              max_delta_step=0, max_depth=10,\n",
              "                              min_child_weight=1, missing=None,\n",
              "                              n_estimators=100, n_jobs=1, nthread=None,\n",
              "                              objective='reg:linear', random_state=2,\n",
              "                              reg_alpha=0, reg_lambda=1, scale_pos_weight=1,\n",
              "                              seed=None, silent=None, subsample=1,\n",
              "                              verbosity=1))],\n",
              "         verbose=False)"
            ]
          },
          "metadata": {},
          "execution_count": 30
        }
      ]
    },
    {
      "cell_type": "code",
      "metadata": {
        "colab": {
          "base_uri": "https://localhost:8080/"
        },
        "id": "zrJ2oAQQsqz2",
        "outputId": "99002df0-27c3-4a42-e5e5-6f2ec3505c36"
      },
      "source": [
        "# 평가지표를 계산 후 베이스라인과 비교해보세요.\n",
        "\n",
        "y_pred = pipe.predict(X_train)\n",
        "pipe_train_r2score = r2_score(y_train, y_pred)\n",
        "print(' pipe r2_score :', pipe_train_r2score, '\\n', 'baseline_r2score :', baseline_r2score)"
      ],
      "execution_count": null,
      "outputs": [
        {
          "output_type": "stream",
          "name": "stdout",
          "text": [
            " pipe r2_score : 0.9999821589724033 \n",
            " baseline_r2score : -1.6840863670264383e-06\n"
          ]
        }
      ]
    },
    {
      "cell_type": "code",
      "metadata": {
        "colab": {
          "base_uri": "https://localhost:8080/"
        },
        "id": "8wWytTKqn82H",
        "outputId": "d6dca5c3-b024-4a9b-bae4-86e7f4ab92ba"
      },
      "source": [
        "# 어느정도 성능이 나왔다면, 교차 검증 (이하 CV)을 통해서 일반화될 가능성이 있는지 확인해봅니다.\n",
        "\n",
        "from sklearn.model_selection import cross_val_score\n",
        "from sklearn.model_selection import KFold\n",
        "\n",
        "kfold = KFold(n_splits=5, shuffle = True, random_state=2)\n",
        "scores = cross_val_score(pipe, X_train, y_train, cv = kfold)\n",
        "\n",
        "# Trainingdata에 대한 성능을 나타낸다.\n",
        "print('교차 검증별 정확도:',scores)\n",
        "print('평균 검증 정확도:', np.mean(scores))"
      ],
      "execution_count": null,
      "outputs": [
        {
          "output_type": "stream",
          "name": "stderr",
          "text": [
            "/usr/local/lib/python3.7/dist-packages/category_encoders/utils.py:21: FutureWarning: is_categorical is deprecated and will be removed in a future version.  Use is_categorical_dtype instead\n",
            "  elif pd.api.types.is_categorical(cols):\n"
          ]
        },
        {
          "output_type": "stream",
          "name": "stdout",
          "text": [
            "[13:56:25] WARNING: /workspace/src/objective/regression_obj.cu:152: reg:linear is now deprecated in favor of reg:squarederror.\n"
          ]
        },
        {
          "output_type": "stream",
          "name": "stderr",
          "text": [
            "/usr/local/lib/python3.7/dist-packages/category_encoders/utils.py:21: FutureWarning: is_categorical is deprecated and will be removed in a future version.  Use is_categorical_dtype instead\n",
            "  elif pd.api.types.is_categorical(cols):\n"
          ]
        },
        {
          "output_type": "stream",
          "name": "stdout",
          "text": [
            "[13:56:26] WARNING: /workspace/src/objective/regression_obj.cu:152: reg:linear is now deprecated in favor of reg:squarederror.\n"
          ]
        },
        {
          "output_type": "stream",
          "name": "stderr",
          "text": [
            "/usr/local/lib/python3.7/dist-packages/category_encoders/utils.py:21: FutureWarning: is_categorical is deprecated and will be removed in a future version.  Use is_categorical_dtype instead\n",
            "  elif pd.api.types.is_categorical(cols):\n"
          ]
        },
        {
          "output_type": "stream",
          "name": "stdout",
          "text": [
            "[13:56:28] WARNING: /workspace/src/objective/regression_obj.cu:152: reg:linear is now deprecated in favor of reg:squarederror.\n"
          ]
        },
        {
          "output_type": "stream",
          "name": "stderr",
          "text": [
            "/usr/local/lib/python3.7/dist-packages/category_encoders/utils.py:21: FutureWarning: is_categorical is deprecated and will be removed in a future version.  Use is_categorical_dtype instead\n",
            "  elif pd.api.types.is_categorical(cols):\n"
          ]
        },
        {
          "output_type": "stream",
          "name": "stdout",
          "text": [
            "[13:56:29] WARNING: /workspace/src/objective/regression_obj.cu:152: reg:linear is now deprecated in favor of reg:squarederror.\n"
          ]
        },
        {
          "output_type": "stream",
          "name": "stderr",
          "text": [
            "/usr/local/lib/python3.7/dist-packages/category_encoders/utils.py:21: FutureWarning: is_categorical is deprecated and will be removed in a future version.  Use is_categorical_dtype instead\n",
            "  elif pd.api.types.is_categorical(cols):\n"
          ]
        },
        {
          "output_type": "stream",
          "name": "stdout",
          "text": [
            "[13:56:31] WARNING: /workspace/src/objective/regression_obj.cu:152: reg:linear is now deprecated in favor of reg:squarederror.\n",
            "교차 검증별 정확도: [0.9878757  0.99529359 0.99001908 0.78627396 0.98007681]\n",
            "평균 검증 정확도: 0.9479078271541915\n"
          ]
        }
      ]
    },
    {
      "cell_type": "code",
      "metadata": {
        "colab": {
          "base_uri": "https://localhost:8080/",
          "height": 452
        },
        "id": "jD9cHtLv8X2D",
        "outputId": "0470a3fd-e213-4d85-d4e1-3703dcfbf7f9"
      },
      "source": [
        "# 모델 성능을 개선하기 위한 다양한 방법을 적용해보세요.\n",
        "\n",
        "simple_pipe = make_pipeline(\n",
        "    OrdinalEncoder(),\n",
        "    RobustScaler(),\n",
        ")\n",
        "simple_pipe.fit(df)\n",
        "simple_df = simple_pipe.transform(df)\n",
        "simple_df = pd.DataFrame(simple_df, columns = df.columns)\n",
        "pd.DataFrame(simple_df.corr().sort_values('전국매출액', ascending=False)['전국매출액'])  # df에 인코더와 스케일러를 사용해주고, 특성별 상관계수를 타겟특성에 대해 내림차순으로 정리하여 상관계수가 높은 특성을 찾아보았습니다."
      ],
      "execution_count": null,
      "outputs": [
        {
          "output_type": "execute_result",
          "data": {
            "text/html": [
              "<div>\n",
              "<style scoped>\n",
              "    .dataframe tbody tr th:only-of-type {\n",
              "        vertical-align: middle;\n",
              "    }\n",
              "\n",
              "    .dataframe tbody tr th {\n",
              "        vertical-align: top;\n",
              "    }\n",
              "\n",
              "    .dataframe thead th {\n",
              "        text-align: right;\n",
              "    }\n",
              "</style>\n",
              "<table border=\"1\" class=\"dataframe\">\n",
              "  <thead>\n",
              "    <tr style=\"text-align: right;\">\n",
              "      <th></th>\n",
              "      <th>전국매출액</th>\n",
              "    </tr>\n",
              "  </thead>\n",
              "  <tbody>\n",
              "    <tr>\n",
              "      <th>전국매출액</th>\n",
              "      <td>1.000000</td>\n",
              "    </tr>\n",
              "    <tr>\n",
              "      <th>전국관객수</th>\n",
              "      <td>0.905005</td>\n",
              "    </tr>\n",
              "    <tr>\n",
              "      <th>전국스크린수</th>\n",
              "      <td>0.733253</td>\n",
              "    </tr>\n",
              "    <tr>\n",
              "      <th>영화형태</th>\n",
              "      <td>-0.010918</td>\n",
              "    </tr>\n",
              "    <tr>\n",
              "      <th>국적</th>\n",
              "      <td>-0.068143</td>\n",
              "    </tr>\n",
              "    <tr>\n",
              "      <th>제작사</th>\n",
              "      <td>-0.094132</td>\n",
              "    </tr>\n",
              "    <tr>\n",
              "      <th>영화구분</th>\n",
              "      <td>-0.099690</td>\n",
              "    </tr>\n",
              "    <tr>\n",
              "      <th>장르</th>\n",
              "      <td>-0.113738</td>\n",
              "    </tr>\n",
              "    <tr>\n",
              "      <th>수입사</th>\n",
              "      <td>-0.148497</td>\n",
              "    </tr>\n",
              "    <tr>\n",
              "      <th>등급</th>\n",
              "      <td>-0.160739</td>\n",
              "    </tr>\n",
              "    <tr>\n",
              "      <th>배급사</th>\n",
              "      <td>-0.233138</td>\n",
              "    </tr>\n",
              "    <tr>\n",
              "      <th>감독</th>\n",
              "      <td>-0.280384</td>\n",
              "    </tr>\n",
              "    <tr>\n",
              "      <th>영화유형</th>\n",
              "      <td>NaN</td>\n",
              "    </tr>\n",
              "  </tbody>\n",
              "</table>\n",
              "</div>"
            ],
            "text/plain": [
              "           전국매출액\n",
              "전국매출액   1.000000\n",
              "전국관객수   0.905005\n",
              "전국스크린수  0.733253\n",
              "영화형태   -0.010918\n",
              "국적     -0.068143\n",
              "제작사    -0.094132\n",
              "영화구분   -0.099690\n",
              "장르     -0.113738\n",
              "수입사    -0.148497\n",
              "등급     -0.160739\n",
              "배급사    -0.233138\n",
              "감독     -0.280384\n",
              "영화유형         NaN"
            ]
          },
          "metadata": {},
          "execution_count": 120
        }
      ]
    },
    {
      "cell_type": "code",
      "metadata": {
        "colab": {
          "base_uri": "https://localhost:8080/"
        },
        "id": "ulprP8g8qU6w",
        "outputId": "5fd77a8c-9477-48aa-bda0-db16cdb6f390"
      },
      "source": [
        "# 상관계수가 높은 특성들만을 이용해서 모델링한 후 기존모델과 비교해보도록 합니다.\n",
        "\n",
        "cut_df = df[['전국스크린수', '전국관객수', '전국매출액']]\n",
        "\n",
        "features = cut_df.drop(target, axis=1).columns\n",
        "train, test = train_test_split(cut_df, train_size=0.80, test_size=0.20,\n",
        "                              random_state=2)\n",
        "train, val = train_test_split(train, train_size=0.80, test_size=0.20,\n",
        "                              random_state=2)\n",
        "\n",
        "X_train_cut = train[features]\n",
        "X_val_cut = val[features]\n",
        "X_test_cut = test[features]\n",
        "\n",
        "y_train_cut = train[target]\n",
        "y_val_cut = val[target]\n",
        "y_test_cut = test[target]\n",
        "\n",
        "print(train.shape, val.shape, test.shape)\n",
        "\n",
        "cut_pipe = make_pipeline(\n",
        "    OrdinalEncoder(),\n",
        "    RobustScaler(),\n",
        "    XGBRegressor(max_depth=10, n_estimators = 100, random_state=2)\n",
        ")\n",
        "\n",
        "cut_pipe.fit(X_train_cut, y_train_cut)"
      ],
      "execution_count": null,
      "outputs": [
        {
          "output_type": "stream",
          "name": "stdout",
          "text": [
            "(9951, 3) (2488, 3) (3110, 3)\n",
            "[15:31:19] WARNING: /workspace/src/objective/regression_obj.cu:152: reg:linear is now deprecated in favor of reg:squarederror.\n"
          ]
        },
        {
          "output_type": "execute_result",
          "data": {
            "text/plain": [
              "Pipeline(memory=None,\n",
              "         steps=[('ordinalencoder',\n",
              "                 OrdinalEncoder(cols=[], drop_invariant=False,\n",
              "                                handle_missing='value', handle_unknown='value',\n",
              "                                mapping=[], return_df=True, verbose=0)),\n",
              "                ('robustscaler',\n",
              "                 RobustScaler(copy=True, quantile_range=(25.0, 75.0),\n",
              "                              with_centering=True, with_scaling=True)),\n",
              "                ('xgbregressor',\n",
              "                 XGBRegressor(base_score=0.5, booster='gbtree',\n",
              "                              colsample_bylevel=1, colsample_bynode=1,\n",
              "                              colsample_bytree=1, gamma=0,\n",
              "                              importance_type='gain', learning_rate=0.1,\n",
              "                              max_delta_step=0, max_depth=10,\n",
              "                              min_child_weight=1, missing=None,\n",
              "                              n_estimators=100, n_jobs=1, nthread=None,\n",
              "                              objective='reg:linear', random_state=2,\n",
              "                              reg_alpha=0, reg_lambda=1, scale_pos_weight=1,\n",
              "                              seed=None, silent=None, subsample=1,\n",
              "                              verbosity=1))],\n",
              "         verbose=False)"
            ]
          },
          "metadata": {},
          "execution_count": 79
        }
      ]
    },
    {
      "cell_type": "code",
      "metadata": {
        "colab": {
          "base_uri": "https://localhost:8080/"
        },
        "id": "wUGNeVRCta73",
        "outputId": "21435c20-15af-4d5d-efd4-d2accf12d802"
      },
      "source": [
        "y_pred = cut_pipe.predict(X_train_cut)\n",
        "cut_pipe_train_r2score = r2_score(y_train_cut, y_pred)\n",
        "print('pipe_train_r2score :', pipe_train_r2score)\n",
        "print('cut_pipe_train_r2score :', cut_pipe_train_r2score)"
      ],
      "execution_count": null,
      "outputs": [
        {
          "output_type": "stream",
          "name": "stdout",
          "text": [
            "pipe_train_r2score : 0.9999821589724033\n",
            "cut_pipe_train_r2score : 0.9999180302628881\n"
          ]
        }
      ]
    },
    {
      "cell_type": "code",
      "metadata": {
        "colab": {
          "base_uri": "https://localhost:8080/"
        },
        "id": "RG-8MtsWuP3w",
        "outputId": "82abfff1-48a4-4041-b2f4-577295d9022e"
      },
      "source": [
        "y_pred = pipe.predict(X_val)\n",
        "pipe_val_r2score = r2_score(y_val, y_pred)\n",
        "y_pred = cut_pipe.predict(X_val_cut)\n",
        "cut_pipe_val_r2score = r2_score(y_val_cut, y_pred)\n",
        "print('pipe_val_r2score :', pipe_val_r2score)\n",
        "print('cut_pipe_val_r2score :', cut_pipe_val_r2score)"
      ],
      "execution_count": null,
      "outputs": [
        {
          "output_type": "stream",
          "name": "stdout",
          "text": [
            "pipe_val_r2score : 0.9914753470503718\n",
            "cut_pipe_val_r2score : 0.9918420028497051\n"
          ]
        }
      ]
    },
    {
      "cell_type": "code",
      "metadata": {
        "colab": {
          "base_uri": "https://localhost:8080/"
        },
        "id": "sEkH-5MLsGv4",
        "outputId": "d9f8476a-f699-4e7e-a2f0-15a5a16f996e"
      },
      "source": [
        "from sklearn.model_selection import RandomizedSearchCV\n",
        "from scipy.stats import randint\n",
        "\n",
        "dists = {\n",
        "    'xgbregressor__n_estimators': randint(50, 500), \n",
        "    'xgbregressor__max_depth': [10, 15, 20, 25], \n",
        "    'xgbregressor__max_features': [1, 3, 5, 7, 9]\n",
        "}\n",
        "pipe_tun = RandomizedSearchCV(\n",
        "    pipe, \n",
        "    param_distributions=dists, \n",
        "    n_iter=50, \n",
        "    cv=3, \n",
        "    scoring='neg_mean_squared_error',  \n",
        "    verbose=1,\n",
        "    n_jobs=-1\n",
        ")\n",
        "pipe_tun.fit(X_train, y_train);\n",
        "print('최적 하이퍼파라미터: ', pipe_tun.best_params_)"
      ],
      "execution_count": null,
      "outputs": [
        {
          "output_type": "stream",
          "name": "stdout",
          "text": [
            "Fitting 3 folds for each of 50 candidates, totalling 150 fits\n"
          ]
        },
        {
          "output_type": "stream",
          "name": "stderr",
          "text": [
            "[Parallel(n_jobs=-1)]: Using backend LokyBackend with 2 concurrent workers.\n",
            "[Parallel(n_jobs=-1)]: Done  46 tasks      | elapsed:  4.9min\n",
            "[Parallel(n_jobs=-1)]: Done 150 out of 150 | elapsed: 14.8min finished\n",
            "/usr/local/lib/python3.7/dist-packages/category_encoders/utils.py:21: FutureWarning: is_categorical is deprecated and will be removed in a future version.  Use is_categorical_dtype instead\n",
            "  elif pd.api.types.is_categorical(cols):\n"
          ]
        },
        {
          "output_type": "stream",
          "name": "stdout",
          "text": [
            "[16:05:02] WARNING: /workspace/src/objective/regression_obj.cu:152: reg:linear is now deprecated in favor of reg:squarederror.\n",
            "최적 하이퍼파라미터:  {'xgbregressor__max_depth': 10, 'xgbregressor__max_features': 9, 'xgbregressor__n_estimators': 63}\n"
          ]
        }
      ]
    },
    {
      "cell_type": "code",
      "metadata": {
        "colab": {
          "base_uri": "https://localhost:8080/"
        },
        "id": "bejlrkNF1wIJ",
        "outputId": "35a62fbe-ed9b-4e28-b7e6-764de4ebb4fa"
      },
      "source": [
        "y_pred = pipe_tun.predict(X_train)\n",
        "print(r2_score(y_train, y_pred))\n",
        "y_pred = pipe_tun.predict(X_val)\n",
        "print(r2_score(y_val, y_pred))"
      ],
      "execution_count": null,
      "outputs": [
        {
          "output_type": "stream",
          "name": "stdout",
          "text": [
            "0.9998735572413681\n",
            "0.9914718847853974\n"
          ]
        }
      ]
    },
    {
      "cell_type": "code",
      "metadata": {
        "colab": {
          "base_uri": "https://localhost:8080/"
        },
        "id": "BIo_UbTGz7FB",
        "outputId": "89eb5925-1d09-4ece-862d-49b1dc86bb3e"
      },
      "source": [
        "# 최소 2개 이상의 모델을 만들어서 validation 점수를 보고하세요.\n",
        "\n",
        "from sklearn.linear_model import LinearRegression\n",
        "\n",
        "Linear_pipe = make_pipeline(\n",
        "    OrdinalEncoder(),\n",
        "    RobustScaler(),\n",
        "    LinearRegression()\n",
        ")\n",
        "\n",
        "Linear_pipe.fit(X_train, y_train)"
      ],
      "execution_count": null,
      "outputs": [
        {
          "output_type": "execute_result",
          "data": {
            "text/plain": [
              "Pipeline(memory=None,\n",
              "         steps=[('ordinalencoder',\n",
              "                 OrdinalEncoder(cols=['감독', '제작사', '수입사', '배급사', '영화유형', '영화형태',\n",
              "                                      '국적', '장르', '등급', '영화구분'],\n",
              "                                drop_invariant=False, handle_missing='value',\n",
              "                                handle_unknown='value',\n",
              "                                mapping=[{'col': '감독', 'data_type': dtype('O'),\n",
              "                                          'mapping': 레이먼드 후버                1\n",
              "이세일                    2\n",
              "안슬기                    3\n",
              "미카엘 하프스트롬              4\n",
              "후지모리 카나                5\n",
              "                    ... \n",
              "존 포그                5301\n",
              "김조광수,여명준,조은경,홍동명    5302\n",
              "니마 누리자데             5303\n",
              "브루스 폰테인             5304\n",
              "NaN                   -2\n",
              "Length: 5305, dtyp...\n",
              "연소자관람가,전체관람가              17\n",
              "NaN                       -2\n",
              "dtype: int64},\n",
              "                                         {'col': '영화구분',\n",
              "                                          'data_type': dtype('O'),\n",
              "                                          'mapping': 독립/예술영화    1\n",
              "일반영화       2\n",
              "NaN       -2\n",
              "dtype: int64}],\n",
              "                                return_df=True, verbose=0)),\n",
              "                ('robustscaler',\n",
              "                 RobustScaler(copy=True, quantile_range=(25.0, 75.0),\n",
              "                              with_centering=True, with_scaling=True)),\n",
              "                ('linearregression',\n",
              "                 LinearRegression(copy_X=True, fit_intercept=True, n_jobs=None,\n",
              "                                  normalize=False))],\n",
              "         verbose=False)"
            ]
          },
          "metadata": {},
          "execution_count": 61
        }
      ]
    },
    {
      "cell_type": "code",
      "metadata": {
        "colab": {
          "base_uri": "https://localhost:8080/"
        },
        "id": "0Zi9M0WBtBE2",
        "outputId": "621de137-dbe5-4878-de04-9f76f1848e7d"
      },
      "source": [
        "y_pred = Linear_pipe.predict(X_train)\n",
        "print('Linear_pipe 모델 train 점수 :', r2_score(y_train, y_pred))\n",
        "y_pred = Linear_pipe.predict(X_val)\n",
        "print('Linear_pipe 모델 val 점수 :', r2_score(y_val, y_pred))"
      ],
      "execution_count": null,
      "outputs": [
        {
          "output_type": "stream",
          "name": "stdout",
          "text": [
            "Linear_pipe 모델 train 점수 : 0.8503337386256221\n",
            "Linear_pipe 모델 val 점수 : 0.821884436265136\n"
          ]
        }
      ]
    },
    {
      "cell_type": "code",
      "metadata": {
        "colab": {
          "base_uri": "https://localhost:8080/"
        },
        "id": "N7gR0Y_Q6yRi",
        "outputId": "2ad81a25-0c02-4bd6-b9f5-d0cc77f6059c"
      },
      "source": [
        "y_pred = pipe.predict(X_val)\n",
        "print('pipe 모델 validation 점수        :', r2_score(y_val, y_pred))\n",
        "y_pred = Linear_pipe.predict(X_val)\n",
        "print('Linear_pipe 모델 validation 점수 :', r2_score(y_val, y_pred))"
      ],
      "execution_count": null,
      "outputs": [
        {
          "output_type": "stream",
          "name": "stdout",
          "text": [
            "pipe 모델 validation 점수        : 0.9914753470503718\n",
            "Linear_pipe 모델 validation 점수 : 0.821884436265136\n"
          ]
        }
      ]
    },
    {
      "cell_type": "code",
      "metadata": {
        "colab": {
          "base_uri": "https://localhost:8080/"
        },
        "id": "LM2jqwoz7cON",
        "outputId": "824f4544-3a19-4017-8494-a430262e11e1"
      },
      "source": [
        "# 최종 모델의 test 점수를 보고하세요.\n",
        "\n",
        "y_pred = pipe.predict(X_test)\n",
        "print('pipe(최종 모델) test 점수(r2 score) :', r2_score(y_test, y_pred))\n",
        "print('baseline r2 score                   :', baseline_r2score)\n",
        "print('pipe(최종 모델) test 점수(rmse)     :', np.sqrt(mean_squared_error(y_test, y_pred)))\n",
        "print('baseline rmse                       :', baseline_rmse)       # 최종모델 r2 score : 약 0.99, baseline r2 score : 약 -1.68\n",
        "print('타겟 평균값                         :', df[target].mean())   # 최종모델 rmse : 약 5억, baseline rmse : 약 61억"
      ],
      "execution_count": null,
      "outputs": [
        {
          "output_type": "stream",
          "name": "stdout",
          "text": [
            "pipe(최종 모델) test 점수(r2 score) : 0.9938604185528389\n",
            "baseline r2 score                   : -1.6840863670264383e-06\n",
            "pipe(최종 모델) test 점수(rmse)     : 565694219.7401273\n",
            "baseline rmse                       : 6113123664.053403\n",
            "타겟 평균값                         : 1094257034.0102713\n"
          ]
        }
      ]
    },
    {
      "cell_type": "markdown",
      "metadata": {
        "id": "KmSkE-rN79bi"
      },
      "source": [
        "- 모델을 학습한 후에 베이스라인보다 잘 나왔나요? 그렇지 않다면 그 이유는 무엇일까요?  \n",
        "베이스라인 보다 훨씬 더 좋은 점수를 보입니다.  \n",
        "- 모델 성능 개선을 위해 어떤 방법을 적용했나요? 그 방법을 선택한 이유는 무엇인가요?  \n",
        "특성별 상관계수를 조사하여 타겟과 높은 상관계수를 보이는 특성들의 조합으로 모델링을 해보았고, RandomizedSearchCV를 통해 더 적합한 하이퍼 파라미터가 있는지 찾아보았습니다.\n",
        "- 최종 모델에 관해 설명하세요.  \n",
        "인코더와 스케일러를 거친 데이터를 XGBRegressor를 통해 학습하였고 train, val, test 세개의 데이터에서 모두 99점대의 r^2 score를 보여 일반화가 된 좋은 성능의 모델이 만들어졌다고 생각합니다."
      ]
    },
    {
      "cell_type": "markdown",
      "metadata": {
        "id": "I005ER61K1Sd"
      },
      "source": [
        "### 5) 머신러닝 모델 해석  \n",
        "- PDP, SHAP을 활용하여 최종 모델을 설명합니다\n",
        "- 시각화는 \"설명\"이 제일 중요합니다."
      ]
    },
    {
      "cell_type": "code",
      "metadata": {
        "colab": {
          "base_uri": "https://localhost:8080/",
          "height": 204
        },
        "id": "GJtIDeTeRF3A",
        "outputId": "a55e5d94-3338-40aa-b707-e54394c8d998"
      },
      "source": [
        "simple_df.head()"
      ],
      "execution_count": null,
      "outputs": [
        {
          "output_type": "execute_result",
          "data": {
            "text/html": [
              "<div>\n",
              "<style scoped>\n",
              "    .dataframe tbody tr th:only-of-type {\n",
              "        vertical-align: middle;\n",
              "    }\n",
              "\n",
              "    .dataframe tbody tr th {\n",
              "        vertical-align: top;\n",
              "    }\n",
              "\n",
              "    .dataframe thead th {\n",
              "        text-align: right;\n",
              "    }\n",
              "</style>\n",
              "<table border=\"1\" class=\"dataframe\">\n",
              "  <thead>\n",
              "    <tr style=\"text-align: right;\">\n",
              "      <th></th>\n",
              "      <th>감독</th>\n",
              "      <th>제작사</th>\n",
              "      <th>수입사</th>\n",
              "      <th>배급사</th>\n",
              "      <th>영화유형</th>\n",
              "      <th>영화형태</th>\n",
              "      <th>국적</th>\n",
              "      <th>전국스크린수</th>\n",
              "      <th>전국매출액</th>\n",
              "      <th>전국관객수</th>\n",
              "      <th>장르</th>\n",
              "      <th>등급</th>\n",
              "      <th>영화구분</th>\n",
              "    </tr>\n",
              "  </thead>\n",
              "  <tbody>\n",
              "    <tr>\n",
              "      <th>0</th>\n",
              "      <td>-0.914920</td>\n",
              "      <td>-0.004762</td>\n",
              "      <td>-0.270769</td>\n",
              "      <td>-0.835637</td>\n",
              "      <td>0.0</td>\n",
              "      <td>0.0</td>\n",
              "      <td>-0.5</td>\n",
              "      <td>49.56250</td>\n",
              "      <td>3246.793198</td>\n",
              "      <td>1144.841599</td>\n",
              "      <td>-1.000000</td>\n",
              "      <td>-1.00</td>\n",
              "      <td>0.0</td>\n",
              "    </tr>\n",
              "    <tr>\n",
              "      <th>1</th>\n",
              "      <td>-0.914676</td>\n",
              "      <td>-0.003571</td>\n",
              "      <td>-0.270769</td>\n",
              "      <td>-0.835637</td>\n",
              "      <td>0.0</td>\n",
              "      <td>0.0</td>\n",
              "      <td>-0.5</td>\n",
              "      <td>61.78125</td>\n",
              "      <td>3340.062510</td>\n",
              "      <td>1057.175821</td>\n",
              "      <td>-0.888889</td>\n",
              "      <td>-1.00</td>\n",
              "      <td>0.0</td>\n",
              "    </tr>\n",
              "    <tr>\n",
              "      <th>2</th>\n",
              "      <td>-0.914432</td>\n",
              "      <td>-0.002381</td>\n",
              "      <td>-0.270769</td>\n",
              "      <td>-0.834101</td>\n",
              "      <td>0.0</td>\n",
              "      <td>0.0</td>\n",
              "      <td>-0.5</td>\n",
              "      <td>59.71875</td>\n",
              "      <td>2767.247808</td>\n",
              "      <td>936.656484</td>\n",
              "      <td>-0.777778</td>\n",
              "      <td>-0.75</td>\n",
              "      <td>0.0</td>\n",
              "    </tr>\n",
              "    <tr>\n",
              "      <th>3</th>\n",
              "      <td>-0.914188</td>\n",
              "      <td>-0.001190</td>\n",
              "      <td>-0.270769</td>\n",
              "      <td>-0.835637</td>\n",
              "      <td>0.0</td>\n",
              "      <td>0.0</td>\n",
              "      <td>-0.5</td>\n",
              "      <td>30.15625</td>\n",
              "      <td>2650.752923</td>\n",
              "      <td>925.947611</td>\n",
              "      <td>-0.666667</td>\n",
              "      <td>-0.75</td>\n",
              "      <td>0.0</td>\n",
              "    </tr>\n",
              "    <tr>\n",
              "      <th>4</th>\n",
              "      <td>-0.913944</td>\n",
              "      <td>0.000000</td>\n",
              "      <td>-0.267692</td>\n",
              "      <td>-0.832565</td>\n",
              "      <td>0.0</td>\n",
              "      <td>0.0</td>\n",
              "      <td>0.0</td>\n",
              "      <td>88.56250</td>\n",
              "      <td>2922.331653</td>\n",
              "      <td>905.706727</td>\n",
              "      <td>-0.555556</td>\n",
              "      <td>-0.75</td>\n",
              "      <td>0.0</td>\n",
              "    </tr>\n",
              "  </tbody>\n",
              "</table>\n",
              "</div>"
            ],
            "text/plain": [
              "         감독       제작사       수입사       배급사  ...        전국관객수        장르    등급  영화구분\n",
              "0 -0.914920 -0.004762 -0.270769 -0.835637  ...  1144.841599 -1.000000 -1.00   0.0\n",
              "1 -0.914676 -0.003571 -0.270769 -0.835637  ...  1057.175821 -0.888889 -1.00   0.0\n",
              "2 -0.914432 -0.002381 -0.270769 -0.834101  ...   936.656484 -0.777778 -0.75   0.0\n",
              "3 -0.914188 -0.001190 -0.270769 -0.835637  ...   925.947611 -0.666667 -0.75   0.0\n",
              "4 -0.913944  0.000000 -0.267692 -0.832565  ...   905.706727 -0.555556 -0.75   0.0\n",
              "\n",
              "[5 rows x 13 columns]"
            ]
          },
          "metadata": {},
          "execution_count": 91
        }
      ]
    },
    {
      "cell_type": "code",
      "metadata": {
        "colab": {
          "base_uri": "https://localhost:8080/"
        },
        "id": "Z1Pw4tCML1Ce",
        "outputId": "c9f0cc32-af82-41d8-c320-d4ead09a375b"
      },
      "source": [
        "from pdpbox.pdp import pdp_interact, pdp_interact_plot\n",
        "import matplotlib.pyplot as plt\n",
        "from pdpbox import pdp\n",
        "import shap\n",
        "\n",
        "simple_df.columns = ['director', 'producer', 'importer', 'distributor', 'movie type', 'film format', 'nationality', 'total screens', '전국매출액', 'total audience', 'genre', 'class', 'Movie Category']\n",
        "E_features = ['director', 'producer', 'importer', 'distributor', 'movie type', 'film format', 'nationality', 'total screens', 'total audience', 'genre', 'class', 'Movie Category']\n",
        "\n",
        "train, test = train_test_split(simple_df, train_size=0.80, test_size=0.20,\n",
        "                              random_state=2)\n",
        "train, val = train_test_split(train, train_size=0.80, test_size=0.20,\n",
        "                              random_state=2)\n",
        "\n",
        "X_train_simple = train[E_features]\n",
        "X_val_simple = val[E_features]\n",
        "X_test_simple = test[E_features]\n",
        "\n",
        "y_train_simple = train[target]\n",
        "y_val_simple = val[target]\n",
        "y_test_simple = test[target]\n",
        "\n",
        "model = XGBRegressor(max_depth=10, n_estimators = 100, random_state=2)\n",
        "model.fit(X_train_simple, y_train)"
      ],
      "execution_count": null,
      "outputs": [
        {
          "output_type": "stream",
          "name": "stdout",
          "text": [
            "[17:21:38] WARNING: /workspace/src/objective/regression_obj.cu:152: reg:linear is now deprecated in favor of reg:squarederror.\n"
          ]
        },
        {
          "output_type": "execute_result",
          "data": {
            "text/plain": [
              "XGBRegressor(base_score=0.5, booster='gbtree', colsample_bylevel=1,\n",
              "             colsample_bynode=1, colsample_bytree=1, gamma=0,\n",
              "             importance_type='gain', learning_rate=0.1, max_delta_step=0,\n",
              "             max_depth=10, min_child_weight=1, missing=None, n_estimators=100,\n",
              "             n_jobs=1, nthread=None, objective='reg:linear', random_state=2,\n",
              "             reg_alpha=0, reg_lambda=1, scale_pos_weight=1, seed=None,\n",
              "             silent=None, subsample=1, verbosity=1)"
            ]
          },
          "metadata": {},
          "execution_count": 109
        }
      ]
    },
    {
      "cell_type": "code",
      "metadata": {
        "colab": {
          "base_uri": "https://localhost:8080/",
          "height": 407
        },
        "id": "BH3Tl4YEPT9X",
        "outputId": "dc76e090-8cdb-400d-a517-cef8d3e7858d"
      },
      "source": [
        "explainer = shap.TreeExplainer(model)\n",
        "shap_values = explainer.shap_values(X_val_simple.iloc[:300], check_additivity=False)   # 만들어진 모델이 예측을 하는데 있어서 전국관객수(total audience)와 전국스크린수(total screens) 특성이 중요한 지표로 작용하는것으로 보입니다. \n",
        "shap.summary_plot(shap_values, X_val_simple.iloc[:300], plot_type=\"bar\")               # 두 특성이 예측값에 어떠한 영향을 미치는지 더 알아보겠습니다."
      ],
      "execution_count": null,
      "outputs": [
        {
          "output_type": "display_data",
          "data": {
            "image/png": "[encoded data removed]",
            "text/plain": [
              "<Figure size 576x453.6 with 1 Axes>"
            ]
          },
          "metadata": {
            "needs_background": "light"
          }
        }
      ]
    },
    {
      "cell_type": "code",
      "metadata": {
        "colab": {
          "base_uri": "https://localhost:8080/",
          "height": 632
        },
        "id": "HCmPRe2QY52i",
        "outputId": "88531fbe-0dcf-44ae-f1a9-32427496dbc4"
      },
      "source": [
        "from pdpbox.pdp import pdp_isolate, pdp_plot\n",
        "\n",
        "feature = 'total audience'\n",
        "\n",
        "isolated = pdp_isolate(\n",
        "    model=model, \n",
        "    dataset=X_val_simple, \n",
        "    model_features=X_val_simple.columns, \n",
        "    feature=feature\n",
        ")\n",
        "pdp_plot(isolated, feature_name=feature)   # 전국관객수 특성값이 증가할수록 예측값 또한 증가합니다"
      ],
      "execution_count": null,
      "outputs": [
        {
          "output_type": "execute_result",
          "data": {
            "text/plain": [
              "(<Figure size 1080x684 with 2 Axes>,\n",
              " {'pdp_ax': <matplotlib.axes._subplots.AxesSubplot at 0x7f379a0bfc90>,\n",
              "  'title_ax': <matplotlib.axes._subplots.AxesSubplot at 0x7f379a0934d0>})"
            ]
          },
          "metadata": {},
          "execution_count": 114
        },
        {
          "output_type": "display_data",
          "data": {
            "image/png": "[encoded data removed]",
            "text/plain": [
              "<Figure size 1080x684 with 2 Axes>"
            ]
          },
          "metadata": {
            "needs_background": "light"
          }
        }
      ]
    },
    {
      "cell_type": "code",
      "metadata": {
        "colab": {
          "base_uri": "https://localhost:8080/",
          "height": 632
        },
        "id": "mXrUvkXYZyda",
        "outputId": "703fb2d4-d824-42eb-b7ca-090bbf6a9741"
      },
      "source": [
        "feature = 'total screens'\n",
        "\n",
        "isolated = pdp_isolate(\n",
        "    model=model, \n",
        "    dataset=X_val_simple, \n",
        "    model_features=X_val_simple.columns, \n",
        "    feature=feature\n",
        ")\n",
        "pdp_plot(isolated, feature_name=feature)   # 전국스크린수 특성값이 증가할수록 예측값 또한 전체적으로 증가하는 양상을 보입니다."
      ],
      "execution_count": null,
      "outputs": [
        {
          "output_type": "execute_result",
          "data": {
            "text/plain": [
              "(<Figure size 1080x684 with 2 Axes>,\n",
              " {'pdp_ax': <matplotlib.axes._subplots.AxesSubplot at 0x7f379a00c210>,\n",
              "  'title_ax': <matplotlib.axes._subplots.AxesSubplot at 0x7f3799fd3a90>})"
            ]
          },
          "metadata": {},
          "execution_count": 115
        },
        {
          "output_type": "display_data",
          "data": {
            "image/png": "[encoded data removed]",
            "text/plain": [
              "<Figure size 1080x684 with 2 Axes>"
            ]
          },
          "metadata": {
            "needs_background": "light"
          }
        }
      ]
    },
    {
      "cell_type": "markdown",
      "metadata": {
        "id": "vOh8XZp1bxwh"
      },
      "source": [
        "- 모델이 관측치를 예측하기 위해서 어떤 특성을 활용했나요?  \n",
        "전국관객수와 전국스크린수 특성을 활용한것으로 보입니다.\n",
        "-  어떤 특성이 있다면 모델의 예측에 도움이 될까요? 해당 특성은 어떻게 구할 수 있을까요?  \n",
        "영화의 총 상영횟수를 나타내는 특성이 있으면 모델 예측에 도움이 될 것 같습니다.  \n",
        "KOBIS 영화관입장권통합전산망 데이터 베이스를 찾아보면 있을지도 모르겠습니다."
      ]
    }
  ]
}